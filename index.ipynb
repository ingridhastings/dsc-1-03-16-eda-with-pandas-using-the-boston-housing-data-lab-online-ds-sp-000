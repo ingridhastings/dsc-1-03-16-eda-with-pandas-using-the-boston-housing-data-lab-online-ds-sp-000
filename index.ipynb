{
 "cells": [
  {
   "cell_type": "code",
   "execution_count": 98,
   "metadata": {},
   "outputs": [
    {
     "name": "stdout",
     "output_type": "stream",
     "text": [
      "<class 'pandas.core.frame.DataFrame'>\n",
      "RangeIndex: 333 entries, 0 to 332\n",
      "Data columns (total 15 columns):\n",
      "ID         333 non-null int64\n",
      "crim       333 non-null float64\n",
      "zn         333 non-null float64\n",
      "indus      333 non-null float64\n",
      "chas       333 non-null int64\n",
      "nox        333 non-null float64\n",
      "rm         333 non-null float64\n",
      "age        333 non-null float64\n",
      "dis        333 non-null float64\n",
      "rad        333 non-null int64\n",
      "tax        333 non-null int64\n",
      "ptratio    333 non-null float64\n",
      "black      333 non-null float64\n",
      "lstat      333 non-null float64\n",
      "medv       333 non-null float64\n",
      "dtypes: float64(11), int64(4)\n",
      "memory usage: 39.1 KB\n",
      "Mean:  3.360341471471471\n",
      "Median:  0.26169000000000003\n",
      "Mode:  0    0.01501\n",
      "dtype: float64\n"
     ]
    },
    {
     "data": {
      "text/plain": [
       "ID         0\n",
       "crim       0\n",
       "zn         0\n",
       "indus      0\n",
       "chas       0\n",
       "nox        0\n",
       "rm         0\n",
       "age        0\n",
       "dis        0\n",
       "rad        0\n",
       "tax        0\n",
       "ptratio    0\n",
       "black      0\n",
       "lstat      0\n",
       "medv       0\n",
       "dtype: int64"
      ]
     },
     "execution_count": 98,
     "metadata": {},
     "output_type": "execute_result"
    }
   ],
   "source": [
    "#Use your data munging and visualization skills to conduct an exploratory analysis of the dataset below. At minimum, this should include:\n",
    "\n",
    "import pandas as pd\n",
    "import numpy as np\n",
    "import matplotlib.pyplot as plt\n",
    "\n",
    "%matplotlib notebook\n",
    "\n",
    "#Load the data (which is stored in the file train.csv):\n",
    "bpd = pd.read_csv('train.csv')\n",
    "bpd.head(20)\n",
    "bpd.info()\n",
    "bpd.describe()\n",
    "\n",
    "#Use built-in python functions to explore measures of centrality and dispersion for at least 3 variables:\n",
    "#mean value\n",
    "mean= bpd['crim'].mean()\n",
    "\n",
    "#median value\n",
    "median= bpd['crim'].median()\n",
    "\n",
    "#mode value\n",
    "mode= bpd['crim'].mode()\n",
    "print(\"Mean: \", mean)\n",
    "print(\"Median: \", median)\n",
    "print(\"Mode: \", mode)\n",
    "\n",
    "#Create meaningful subsets of the data using selection operations using .loc, .iloc or related operations. \n",
    "#Explain why you used the chosen subsets and do this for 3 possible 2-way splits. \n",
    "#State how you think the 2 measures of centrality and/or dispersion might be different for each subset of the data. Examples of potential splits:\n",
    "\n",
    "#Create a 2 new dataframes based on your existing data, where one contains all the properties next to the Charles river, and the other one contains properties that aren't:\n",
    "cr = df[bpd['chas'] == 1]\n",
    "not_cr = df[bpd['chas'] == 0]\n",
    "cr.count() #20\n",
    "not_cr.count() #313\n",
    "\n",
    "#Create 2 new datagrames based on a certain split for crime rate:\n",
    "crime = df[bpd['crim'] == 1]\n",
    "not_crime = df[bpd['crim'] == 0]\n",
    "crime.count() #20\n",
    "not_crime.count() #313\n",
    "\n",
    "#Next, use histograms and scatterplots to see whether you observe differences for the subsets of the data. Make sure to use subplots so it is easy to compare the relationships.\n"
   ]
  },
  {
   "cell_type": "code",
   "execution_count": null,
   "metadata": {},
   "outputs": [],
   "source": []
  },
  {
   "cell_type": "code",
   "execution_count": null,
   "metadata": {},
   "outputs": [],
   "source": []
  },
  {
   "cell_type": "code",
   "execution_count": null,
   "metadata": {},
   "outputs": [],
   "source": []
  },
  {
   "cell_type": "code",
   "execution_count": null,
   "metadata": {},
   "outputs": [],
   "source": []
  },
  {
   "cell_type": "code",
   "execution_count": null,
   "metadata": {},
   "outputs": [],
   "source": []
  }
 ],
 "metadata": {
  "kernelspec": {
   "display_name": "Python 3",
   "language": "python",
   "name": "python3"
  },
  "language_info": {
   "codemirror_mode": {
    "name": "ipython",
    "version": 3
   },
   "file_extension": ".py",
   "mimetype": "text/x-python",
   "name": "python",
   "nbconvert_exporter": "python",
   "pygments_lexer": "ipython3",
   "version": "3.7.0"
  }
 },
 "nbformat": 4,
 "nbformat_minor": 2
}
